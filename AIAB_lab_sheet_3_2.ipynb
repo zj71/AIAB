{
  "nbformat": 4,
  "nbformat_minor": 0,
  "metadata": {
    "colab": {
      "name": "AIAB_lab_sheet_3_2.ipynb",
      "provenance": [],
      "collapsed_sections": [],
      "toc_visible": true,
      "include_colab_link": true
    },
    "kernelspec": {
      "name": "python3",
      "display_name": "Python 3"
    }
  },
  "cells": [
    {
      "cell_type": "markdown",
      "metadata": {
        "id": "view-in-github",
        "colab_type": "text"
      },
      "source": [
        "<a href=\"https://colab.research.google.com/github/zj71/AIAB/blob/main/AIAB_lab_sheet_3_2.ipynb\" target=\"_parent\"><img src=\"https://colab.research.google.com/assets/colab-badge.svg\" alt=\"Open In Colab\"/></a>"
      ]
    },
    {
      "cell_type": "markdown",
      "metadata": {
        "id": "Mp7i_jzAKGPy"
      },
      "source": [
        "<h1><center><b> Acquired Intelligence & Adaptive Behaviour </b></center></h1>\n",
        "<h2><center><i>Evolving agents (Lab Sheet 03) </i></center></h2>\n",
        "\n",
        "In this sheet we will take what we learned in the first two sheets to evolve a neural network which controls some agent. Your goal is to apply the GA your deveopled in the previous labs to this agent. The sheet includes an example of a single hillclimber which doesnt do very well. Once you have something working then experiment with different networks and different tasks.\n",
        "\n",
        "We will be using the [`CartPole-v1`](https://gym.openai.com/envs/CartPole-v1/) task from `OpenAI` gym:\n",
        "\n",
        "\n",
        "<center><img src=\"https://gym.openai.com/videos/2019-10-21--mqt8Qj1mwo/CartPole-v1/poster.jpg\" width=\"300\"></center>\n",
        "\n",
        "> _A pole is attached by an un-actuated joint to a cart, which moves along a frictionless track. The system is controlled by applying a force of +1 or -1 to the cart. The pendulum starts upright, and the goal is to prevent it from falling over. A reward of +1 is provided for every timestep that the pole remains upright. The episode ends when the pole is more than 15 degrees from vertical, or the cart moves more than 2.4 units from the center._\n",
        "\n",
        "\n",
        "_If things stop working always try restarting the kernel, `opengl` does some strange things to Colab_\n",
        "\n"
      ]
    },
    {
      "cell_type": "markdown",
      "metadata": {
        "id": "4TmGVOnehoVT"
      },
      "source": [
        "## Imports\n",
        "(_We need to install some packages so we can render in Google colab_)"
      ]
    },
    {
      "cell_type": "code",
      "metadata": {
        "id": "Ssnb-wmdEQKf",
        "colab": {
          "base_uri": "https://localhost:8080/"
        },
        "outputId": "6544fe78-b712-45e6-9097-ed310d887ab6"
      },
      "source": [
        "!apt-get update\n",
        "!apt install xvfb \n",
        "!apt-get install x11-utils > /dev/null 2>&1\n",
        "!apt-get install -y xvfb python-opengl > /dev/null 2>&1\n",
        "!pip install gym pyvirtualdisplay > /dev/null 2>&1"
      ],
      "execution_count": 1,
      "outputs": [
        {
          "output_type": "stream",
          "text": [
            "\r0% [Working]\r            \rHit:1 https://cloud.r-project.org/bin/linux/ubuntu bionic-cran40/ InRelease\n",
            "\r0% [Connecting to archive.ubuntu.com (91.189.88.152)] [Connecting to security.u\r0% [1 InRelease gpgv 3,626 B] [Connecting to archive.ubuntu.com (91.189.88.152)\r                                                                               \rIgn:2 https://developer.download.nvidia.com/compute/cuda/repos/ubuntu1804/x86_64  InRelease\n",
            "\r0% [1 InRelease gpgv 3,626 B] [Connecting to archive.ubuntu.com (91.189.88.152)\r                                                                               \rHit:3 http://security.ubuntu.com/ubuntu bionic-security InRelease\n",
            "\r0% [1 InRelease gpgv 3,626 B] [Connecting to archive.ubuntu.com (91.189.88.152)\r                                                                               \rIgn:4 https://developer.download.nvidia.com/compute/machine-learning/repos/ubuntu1804/x86_64  InRelease\n",
            "\r0% [1 InRelease gpgv 3,626 B] [Connecting to archive.ubuntu.com (91.189.88.152)\r                                                                               \rHit:5 https://developer.download.nvidia.com/compute/cuda/repos/ubuntu1804/x86_64  Release\n",
            "Hit:6 https://developer.download.nvidia.com/compute/machine-learning/repos/ubuntu1804/x86_64  Release\n",
            "Hit:7 http://ppa.launchpad.net/c2d4u.team/c2d4u4.0+/ubuntu bionic InRelease\n",
            "Hit:8 http://archive.ubuntu.com/ubuntu bionic InRelease\n",
            "Hit:9 http://archive.ubuntu.com/ubuntu bionic-updates InRelease\n",
            "Hit:10 http://ppa.launchpad.net/cran/libgit2/ubuntu bionic InRelease\n",
            "Hit:11 http://archive.ubuntu.com/ubuntu bionic-backports InRelease\n",
            "Hit:13 http://ppa.launchpad.net/deadsnakes/ppa/ubuntu bionic InRelease\n",
            "Hit:15 http://ppa.launchpad.net/graphics-drivers/ppa/ubuntu bionic InRelease\n",
            "Reading package lists... Done\n",
            "Reading package lists... Done\n",
            "Building dependency tree       \n",
            "Reading state information... Done\n",
            "xvfb is already the newest version (2:1.19.6-1ubuntu4.9).\n",
            "The following package was automatically installed and is no longer required:\n",
            "  libnvidia-common-460\n",
            "Use 'apt autoremove' to remove it.\n",
            "0 upgraded, 0 newly installed, 0 to remove and 58 not upgraded.\n"
          ],
          "name": "stdout"
        }
      ]
    },
    {
      "cell_type": "code",
      "metadata": {
        "id": "K5oallqreVrz"
      },
      "source": [
        "import random\n",
        "import copy\n",
        "import matplotlib.pyplot as plt\n",
        "from IPython import display as ipythondisplay\n",
        "\n",
        "import gym\n",
        "from gym import logger as gymlogger\n",
        "from gym.wrappers import Monitor\n",
        "import numpy as np\n",
        "import torch"
      ],
      "execution_count": 2,
      "outputs": []
    },
    {
      "cell_type": "markdown",
      "metadata": {
        "id": "cYVg52CkqA18"
      },
      "source": [
        "## OpenAI gym\n",
        "\n",
        "Let's take a basic look at a `gym` agent loop. Here, we will just use random actions. The following envs which are relatively simple:\n",
        "\n",
        "- `Acrobot-v1`\n",
        "- `Cartpole-v1`\n",
        "- `MountainCar-v0`\n",
        "- `Pendulum-v0`\n",
        "\n",
        "Note each environment will accept different actions and observations (see the lecture). Some accept discrete (`int`) actions and observations, some accept continuous (`float`) actions and observations. Use `env.action_space` and `env.observation_space`.\n",
        "\n",
        "Here we will use `CartPole-v1`:"
      ]
    },
    {
      "cell_type": "code",
      "metadata": {
        "colab": {
          "base_uri": "https://localhost:8080/"
        },
        "id": "NWvGRsZbsPgA",
        "outputId": "071db730-ddf0-4c75-b25e-ea7163315ea0"
      },
      "source": [
        "env_name = 'CartPole-v1'\n",
        "env = gym.make(env_name) # create the gym environment\n",
        "print(f\"Action space {env.action_space} \\nObservation space {env.observation_space}\")"
      ],
      "execution_count": 3,
      "outputs": [
        {
          "output_type": "stream",
          "text": [
            "Action space Discrete(2) \n",
            "Observation space Box(-3.4028234663852886e+38, 3.4028234663852886e+38, (4,), float32)\n"
          ],
          "name": "stdout"
        }
      ]
    },
    {
      "cell_type": "markdown",
      "metadata": {
        "id": "wm5vD5SIsxat"
      },
      "source": [
        "**Action:** This means that the environment accepts a single number as an action, which is a discrete number in $[0, 1]$. Here, 0 corresponds to add a force of +1 to the card and 1 corresponds to adding a force -1 to cart. But the whole point of the `gym` hilosophy is that you don't need to know this. \n",
        "\n",
        "**Observation:** `Box` is a class from `gym`, it just means the observations will be wihtin some range (here -3.4 and 3.4), there will be 4 observations, and they will be continuous (`float32`). These 4 numbers corresponds to `\n",
        "\n",
        "- position of cart\n",
        "- velocity of cart\n",
        "- angle of pole \n",
        "- rotation rate of pole \n",
        "\n",
        "But I had to Google that, good general-purpose agents don't need to know the semantics of the observations: they can learn how to map observations to actions to maximize reward without any prior knowledge.\n",
        "\n",
        "Let's see how to run a `gym` environment. Two more concepts are needed here:\n",
        "\n",
        "**Reset**: When you are learning agents, you need to run simulations hundreds (or billions if you are Google) times. Rather than create a new `env` instance each time, we can call `env.reset()` at the start of each simulation. \n",
        "\n",
        "**Done**: `gym` will tell you if the the simulations has finished. For instance, if you have died, or the time limit has been reached. You can also end the simulation yourself, but generally you rely on what `gym` says. Each time you call `env.step()` (coverered below) `gym` will tell you whether the simulations is finished or not\n",
        "\n",
        "**Reward**: calling `env.step()` will also return how much reward you got for that time step. The amount of reward will vary for each environment, but all you need to know is that **more reward is better.** It will always a single floating point number. \n",
        "\n",
        "**Info**: `env.step()` also returns a dictionary called `info`. This sometimes contain additional information, but you can safely ignore it, \n",
        "\n",
        "**Step**: Brining this togetherm `env.step()` operates like this:\n",
        "\n",
        "```python\n",
        "obs, reward, done, info = env.step(action)\n",
        "```\n",
        "\n",
        "Here is an example ***(note I am just using random actions for now - there is no agent)***:"
      ]
    },
    {
      "cell_type": "code",
      "metadata": {
        "colab": {
          "base_uri": "https://localhost:8080/"
        },
        "id": "peBTi4jsqMNt",
        "outputId": "491f5398-8c4f-4e46-94b9-008d6d62e55b"
      },
      "source": [
        "env_name = 'CartPole-v1'\n",
        "env = gym.make(env_name)\n",
        "\n",
        "env.reset()\n",
        "done = False\n",
        "while not done:\n",
        "    action = env.action_space.sample() # put agent here\n",
        "    obs, reward, done, info = env.step(action)\n",
        "    print(f\"obs{np.round(obs, 2)} reward {reward} action {action} done {done} info {info}\")"
      ],
      "execution_count": 4,
      "outputs": [
        {
          "output_type": "stream",
          "text": [
            "obs[-0.01  0.15  0.03 -0.29] reward 1.0 action 1 done False info {}\n",
            "obs[-0.01  0.34  0.02 -0.58] reward 1.0 action 1 done False info {}\n",
            "obs[ 0.    0.54  0.01 -0.86] reward 1.0 action 1 done False info {}\n",
            "obs[ 0.01  0.73 -0.01 -1.15] reward 1.0 action 1 done False info {}\n",
            "obs[ 0.03  0.93 -0.03 -1.44] reward 1.0 action 1 done False info {}\n",
            "obs[ 0.04  0.73 -0.06 -1.16] reward 1.0 action 0 done False info {}\n",
            "obs[ 0.06  0.93 -0.08 -1.47] reward 1.0 action 1 done False info {}\n",
            "obs[ 0.08  0.73 -0.11 -1.2 ] reward 1.0 action 0 done False info {}\n",
            "obs[ 0.09  0.93 -0.13 -1.53] reward 1.0 action 1 done False info {}\n",
            "obs[ 0.11  0.74 -0.16 -1.28] reward 1.0 action 0 done False info {}\n",
            "obs[ 0.13  0.54 -0.19 -1.05] reward 1.0 action 0 done False info {}\n",
            "obs[ 0.14  0.74 -0.21 -1.39] reward 1.0 action 1 done True info {}\n"
          ],
          "name": "stdout"
        }
      ]
    },
    {
      "cell_type": "markdown",
      "metadata": {
        "id": "FILWQ_m7w6gj"
      },
      "source": [
        "It's best practice to wrap a single episode (or simulation, run, whatever you want to call it) in a function. The function will take the agent which we will create below, and which will have a `get_action` function which will take the observations generated by the environment. This function then returns the total reward from that episode. It is a type of **fitness function**:"
      ]
    },
    {
      "cell_type": "code",
      "metadata": {
        "id": "d4CXnXekp_tP"
      },
      "source": [
        "def run_episode(env, agent):\n",
        "    tot_reward = 0.0\n",
        "    obs = env.reset()\n",
        "    done = False\n",
        "    while not done:\n",
        "        action = agent.get_action(obs)\n",
        "        obs, reward, done, info = env.step(action)\n",
        "        tot_reward = tot_reward + reward\n",
        "    return tot_reward"
      ],
      "execution_count": 5,
      "outputs": []
    },
    {
      "cell_type": "markdown",
      "metadata": {
        "id": "NHTwzNuBxgC6"
      },
      "source": [
        "## Visualising your agent\n",
        "\n",
        "It is normally very simple to visualise your simulations. But Google Colab makes it very hard. Here, I have provided a wrapper function which will visualise your episode. You don't need to understand it, and it's slow, so don't use it during learning (use it to view your agent after learning). \n",
        "\n",
        "Passing an agent to the function is optional. If you don't pass an agent, it selects actions at random"
      ]
    },
    {
      "cell_type": "code",
      "metadata": {
        "id": "9qQLG9ZSx4b3"
      },
      "source": [
        "def visual_episode(env, agent=None):\n",
        "    from pyvirtualdisplay import Display\n",
        "    display = Display(visible=0, size=(400, 300))\n",
        "    display.start()\n",
        "    prev_screen = env.render(mode='rgb_array')\n",
        "    plt.imshow(prev_screen)\n",
        "\n",
        "    tot_reward = 0.0\n",
        "    obs = env.reset()\n",
        "    done = False\n",
        "    curr_t = 0\n",
        "    while not done:\n",
        "        if agent is not None:\n",
        "            action = agent.get_action(obs)\n",
        "        else:\n",
        "            action = env.action_space.sample()\n",
        "        obs, reward, done, info = env.step(action)\n",
        "        screen = env.render(mode='rgb_array')\n",
        "        tot_reward = tot_reward + reward\n",
        "\n",
        "        plt.imshow(screen)\n",
        "        plt.title(curr_t)\n",
        "        ipythondisplay.clear_output(wait=True)\n",
        "        ipythondisplay.display(plt.gcf())\n",
        "        curr_t = curr_t + 1\n",
        "\n",
        "    ipythondisplay.clear_output(wait=True)\n",
        "    env.close()\n",
        "    return tot_reward\n"
      ],
      "execution_count": 7,
      "outputs": []
    },
    {
      "cell_type": "code",
      "metadata": {
        "colab": {
          "base_uri": "https://localhost:8080/",
          "height": 299
        },
        "id": "rWBvgTvuDA-h",
        "outputId": "89cc8260-c972-493b-ece4-074dc1b39c8d"
      },
      "source": [
        "visual_episode(env)"
      ],
      "execution_count": 7,
      "outputs": [
        {
          "output_type": "execute_result",
          "data": {
            "text/plain": [
              "20.0"
            ]
          },
          "metadata": {
            "tags": []
          },
          "execution_count": 7
        },
        {
          "output_type": "display_data",
          "data": {
            "image/png": "[encoded data removed]",
            "text/plain": [
              "<Figure size 432x288 with 1 Axes>"
            ]
          },
          "metadata": {
            "tags": [],
            "needs_background": "light"
          }
        }
      ]
    },
    {
      "cell_type": "markdown",
      "metadata": {
        "id": "TMPhKPOkPLWG"
      },
      "source": [
        "https://colab.research.google.com/drive/1flu31ulJlgiRL1dnN2ir8wGh9p7Zij2t#scrollTo=TCelFzWY9MBI"
      ]
    },
    {
      "cell_type": "code",
      "metadata": {
        "id": "UShhmatyMes2"
      },
      "source": [
        "def show_video():\n",
        "  mp4list = glob.glob('video/*.mp4')\n",
        "  if len(mp4list) > 0:\n",
        "    mp4 = mp4list[0]\n",
        "    video = io.open(mp4, 'r+b').read()\n",
        "    encoded = base64.b64encode(video)\n",
        "    ipythondisplay.display(HTML(data='''<video alt=\"test\" autoplay \n",
        "                loop controls style=\"height: 400px;\">\n",
        "                <source src=\"data:video/mp4;base64,{0}\" type=\"video/mp4\" />\n",
        "             </video>'''.format(encoded.decode('ascii'))))\n",
        "  else: \n",
        "    print(\"Could not find video\")\n",
        "    \n",
        "\n",
        "def wrap_env(env):\n",
        "  env = Monitor(env, './video', force=True)\n",
        "  return env"
      ],
      "execution_count": 8,
      "outputs": []
    },
    {
      "cell_type": "code",
      "metadata": {
        "id": "FInmmXnFMuRO"
      },
      "source": [
        "env.close()"
      ],
      "execution_count": 9,
      "outputs": []
    },
    {
      "cell_type": "code",
      "metadata": {
        "id": "25IZbOk-N-lc"
      },
      "source": [
        "\n",
        "%matplotlib inline\n",
        "import math\n",
        "import glob\n",
        "import io\n",
        "import base64\n",
        "\n",
        "from IPython.display import HTML"
      ],
      "execution_count": 17,
      "outputs": []
    },
    {
      "cell_type": "code",
      "metadata": {
        "colab": {
          "base_uri": "https://localhost:8080/"
        },
        "id": "x8lqCCdbMkq-",
        "outputId": "7c0d2ae1-685c-45d4-ef80-e4d167b0ea97"
      },
      "source": [
        "env = wrap_env(gym.make(env_name))\n",
        "env.reset()\n",
        "done = False\n",
        "while not done:\n",
        "    action = env.action_space.sample() # put agent here\n",
        "    obs, reward, done, info = env.step(action)\n",
        "    print(f\"obs{np.round(obs, 2)} reward {reward} action {action} done {done} info {info}\")"
      ],
      "execution_count": 10,
      "outputs": [
        {
          "output_type": "stream",
          "text": [
            "obs[-0.03 -0.23 -0.03  0.25] reward 1.0 action 0 done False info {}\n",
            "obs[-0.04 -0.42 -0.03  0.54] reward 1.0 action 0 done False info {}\n",
            "obs[-0.05 -0.23 -0.02  0.24] reward 1.0 action 1 done False info {}\n",
            "obs[-0.05 -0.03 -0.01 -0.06] reward 1.0 action 1 done False info {}\n",
            "obs[-0.05 -0.23 -0.01  0.23] reward 1.0 action 0 done False info {}\n",
            "obs[-0.06 -0.03 -0.01 -0.07] reward 1.0 action 1 done False info {}\n",
            "obs[-0.06  0.16 -0.01 -0.36] reward 1.0 action 1 done False info {}\n",
            "obs[-0.05  0.36 -0.02 -0.66] reward 1.0 action 1 done False info {}\n",
            "obs[-0.05  0.16 -0.03 -0.37] reward 1.0 action 0 done False info {}\n",
            "obs[-0.04 -0.03 -0.04 -0.09] reward 1.0 action 0 done False info {}\n",
            "obs[-0.04 -0.23 -0.04  0.19] reward 1.0 action 0 done False info {}\n",
            "obs[-0.05 -0.42 -0.03  0.47] reward 1.0 action 0 done False info {}\n",
            "obs[-0.06 -0.23 -0.02  0.17] reward 1.0 action 1 done False info {}\n",
            "obs[-0.06 -0.03 -0.02 -0.13] reward 1.0 action 1 done False info {}\n",
            "obs[-0.06 -0.23 -0.02  0.16] reward 1.0 action 0 done False info {}\n",
            "obs[-0.07 -0.03 -0.02 -0.14] reward 1.0 action 1 done False info {}\n",
            "obs[-0.07  0.17 -0.02 -0.44] reward 1.0 action 1 done False info {}\n",
            "obs[-0.06 -0.03 -0.03 -0.16] reward 1.0 action 0 done False info {}\n",
            "obs[-0.06 -0.22 -0.04  0.12] reward 1.0 action 0 done False info {}\n",
            "obs[-0.07 -0.03 -0.03 -0.18] reward 1.0 action 1 done False info {}\n",
            "obs[-0.07  0.17 -0.04 -0.48] reward 1.0 action 1 done False info {}\n",
            "obs[-0.07  0.36 -0.05 -0.79] reward 1.0 action 1 done False info {}\n",
            "obs[-0.06  0.17 -0.06 -0.51] reward 1.0 action 0 done False info {}\n",
            "obs[-0.05 -0.03 -0.07 -0.24] reward 1.0 action 0 done False info {}\n",
            "obs[-0.06  0.17 -0.08 -0.55] reward 1.0 action 1 done False info {}\n",
            "obs[-0.05  0.37 -0.09 -0.87] reward 1.0 action 1 done False info {}\n",
            "obs[-0.04  0.56 -0.11 -1.18] reward 1.0 action 1 done False info {}\n",
            "obs[-0.03  0.76 -0.13 -1.51] reward 1.0 action 1 done False info {}\n",
            "obs[-0.02  0.95 -0.16 -1.84] reward 1.0 action 1 done False info {}\n",
            "obs[ 0.    0.76 -0.2  -1.6 ] reward 1.0 action 0 done False info {}\n",
            "obs[ 0.02  0.96 -0.23 -1.95] reward 1.0 action 1 done True info {}\n"
          ],
          "name": "stdout"
        }
      ]
    },
    {
      "cell_type": "code",
      "metadata": {
        "id": "_LBFQtWSM1S1"
      },
      "source": [
        "def visual_episode3(env, agent=None):\n",
        "    from pyvirtualdisplay import Display\n",
        "    #display = Display(visible=0, size=(400, 300))\n",
        "    #display.start()\n",
        "    #prev_screen = env.render(mode='rgb_array')\n",
        "    #plt.imshow(prev_screen)\n",
        "    env.render(mode='rgb_array')\n",
        "    tot_reward = 0.0\n",
        "    obs = env.reset()\n",
        "    done = False\n",
        "    curr_t = 0\n",
        "    while not done:\n",
        "        if agent is not None:\n",
        "            action = agent.get_action(obs)\n",
        "        else:\n",
        "            action = env.action_space.sample()\n",
        "        obs, reward, done, info = env.step(action)\n",
        "        #screen = env.render(mode='rgb_array')\n",
        "        tot_reward = tot_reward + reward\n",
        "\n",
        "        #plt.imshow(screen)\n",
        "        #plt.title(curr_t)\n",
        "        #ipythondisplay.clear_output(wait=True)\n",
        "        #ipythondisplay.display(plt.gcf())\n",
        "        curr_t = curr_t + 1\n",
        "\n",
        "    #ipythondisplay.clear_output(wait=True)\n",
        "    env.close()\n",
        "    show_video()\n",
        "    return tot_reward\n"
      ],
      "execution_count": 15,
      "outputs": []
    },
    {
      "cell_type": "code",
      "metadata": {
        "colab": {
          "base_uri": "https://localhost:8080/",
          "height": 438
        },
        "id": "hcQulHk7Nj91",
        "outputId": "a97e7891-17c7-49af-ee1d-30b506c20d3d"
      },
      "source": [
        "visual_episode3(env)"
      ],
      "execution_count": 18,
      "outputs": [
        {
          "output_type": "display_data",
          "data": {
            "text/html": [
              "<video alt=\"test\" autoplay \n",
              "                loop controls style=\"height: 400px;\">\n",
              "                <source src=\"data:video/mp4;base64,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\" type=\"video/mp4\" />\n",
              "             </video>"
            ],
            "text/plain": [
              "<IPython.core.display.HTML object>"
            ]
          },
          "metadata": {
            "tags": []
          }
        },
        {
          "output_type": "execute_result",
          "data": {
            "text/plain": [
              "17.0"
            ]
          },
          "metadata": {
            "tags": []
          },
          "execution_count": 18
        }
      ]
    },
    {
      "cell_type": "markdown",
      "metadata": {
        "id": "v8qLU5Bmhp5p"
      },
      "source": [
        "## Agent\n",
        "\n",
        "We can now move on to the idea of agents. We will need to make a way to map genotypes to agents. Our agents will use neural networks to select actions, so a natural method is to have the genes encode the weights and biases of your neural network.\n",
        "\n",
        "Our agent will take the number of inputs (the number of observations from the environment) and map it to the number of outputs (in this case, a single action).\n",
        "\n",
        "We will use the `set_gene` function to map a list of floats (our genes) of length `num_genes` (see the `Agent` class) to a set of weights and biases.\n",
        "\n",
        "The output of this neural network will be a continuous. We will therefore map the number to a discrete output (0 or 1) by thresholding.\n",
        "The rest of this class should be familiar from the previous work sheets.\n",
        "\n"
      ]
    },
    {
      "cell_type": "code",
      "metadata": {
        "id": "Ln93lnSoesE_"
      },
      "source": [
        "class Agent:\n",
        "    def __init__(self, num_input, num_output):\n",
        "        self.num_input = num_input \n",
        "        self.num_output = num_output\n",
        "        self.num_genes = num_input * num_output + num_output\n",
        "        self.weights = None\n",
        "        self.bias = None\n",
        "\n",
        "    def set_genes(self, gene):\n",
        "        weight_idxs = self.num_input * self.num_output\n",
        "        bias_idxs = self.num_input * self.num_output + self.num_output\n",
        "        w = gene[0 : weight_idxs].reshape(self.num_output, self.num_input)   \n",
        "        b = gene[weight_idxs: bias_idxs].reshape(self.num_output,)\n",
        "        self.weights = torch.from_numpy(w)\n",
        "        self.bias = torch.from_numpy(b)\n",
        "\n",
        "    def forward(self, x):\n",
        "        x = torch.from_numpy(x).unsqueeze(0)\n",
        "        return torch.mm(x, self.weights.T) + self.bias\n",
        "\n",
        "    def get_action(self, x):\n",
        "        if self.forward(x) > 0:\n",
        "            return 1\n",
        "        else:\n",
        "            return 0"
      ],
      "execution_count": null,
      "outputs": []
    },
    {
      "cell_type": "markdown",
      "metadata": {
        "id": "N2uQvWniDBAL"
      },
      "source": [
        "Creating our agent is simple:"
      ]
    },
    {
      "cell_type": "code",
      "metadata": {
        "id": "wHBFJLgJDDho"
      },
      "source": [
        "num_obs = 4 # depends on your environment\n",
        "num_actions = 1 # depends on your environment\n",
        "agent = Agent(num_obs, num_actions)"
      ],
      "execution_count": null,
      "outputs": []
    },
    {
      "cell_type": "markdown",
      "metadata": {
        "id": "Foxu9W5WlZI4"
      },
      "source": [
        "## Learning your agent\n",
        "\n",
        "We now need a way to change our genes in order to maximise reward. We will use the GA method, and you are encouraged to try different variants.\n",
        "\n",
        "We can encode the populations of genes in the same way as previous weeks, The `Agent` class has a field called `num_genes`, this is how many genes you need. \n",
        "\n",
        "**Note that our gene are now continuous valued numbers, unlike last week**"
      ]
    },
    {
      "cell_type": "code",
      "metadata": {
        "colab": {
          "base_uri": "https://localhost:8080/"
        },
        "id": "ueirAmnAC63K",
        "outputId": "d1878061-7cce-4ce0-c2c6-261a2a3cd47a"
      },
      "source": [
        "num_obs = 4 \n",
        "num_actions = 1 \n",
        "agent = Agent(num_obs, num_actions)\n",
        "\n",
        "pop_size = 15\n",
        "num_genes = agent.num_genes\n",
        "gene_pop = np.random.normal(0, 0.1, (pop_size, num_genes))\n",
        "# gene_pop = np.zeros((pop_size, num_genes))\n",
        "print(f\"{gene_pop.shape[0]} individuals in population, {gene_pop.shape[1]} genes per individual\")"
      ],
      "execution_count": null,
      "outputs": [
        {
          "output_type": "stream",
          "text": [
            "15 individuals in population, 5 genes per individual\n"
          ],
          "name": "stdout"
        }
      ]
    },
    {
      "cell_type": "markdown",
      "metadata": {
        "id": "ODvof3A6GOAZ"
      },
      "source": [
        "## Fitness function\n",
        "\n",
        "We want to maximise the reward from running our simulations. For each geneotype in our population, we map it to an agent, evaluate its reward, and return a list of rewards for each agent. "
      ]
    },
    {
      "cell_type": "code",
      "metadata": {
        "id": "stNkZTSpGQTA"
      },
      "source": [
        "def fitness_function(env, agent, gene_pop):\n",
        "    # Get fitness for each gene\n",
        "    pop_size = gene_pop.shape[0]\n",
        "    pop_fitness = np.zeros(pop_size)\n",
        "    for i, gene in enumerate(gene_pop):\n",
        "        agent.set_genes(gene)\n",
        "        pop_fitness[i] = run_episode(env, agent)\n",
        "    return pop_fitness"
      ],
      "execution_count": null,
      "outputs": []
    },
    {
      "cell_type": "markdown",
      "metadata": {
        "id": "B7TGqVvUHmRV"
      },
      "source": [
        "## Mutation \n",
        "\n",
        "We need some method for making mutations to genes. Below is an extremely simple example where we just add Gaussian noise, but we suggest you explore better methods"
      ]
    },
    {
      "cell_type": "code",
      "metadata": {
        "id": "0ug9iYMKH4JX"
      },
      "source": [
        "def mutation_function(gene_pop, mean=0, std=0.1):\n",
        "    for i, gene in enumerate(gene_pop):\n",
        "        gene_pop[i] = gene_pop[i] + np.random.normal(mean, std, size=gene.shape)\n",
        "    # constraint\n",
        "    gene_pop[gene_pop > 4] = 4\n",
        "    gene_pop[gene_pop < -4] = -4\n",
        "\n",
        "    return gene_pop"
      ],
      "execution_count": null,
      "outputs": []
    },
    {
      "cell_type": "markdown",
      "metadata": {
        "id": "2ssn4fOAIt8T"
      },
      "source": [
        "## Selection\n",
        "\n",
        "We also need some way to determine whether our mutation was benefical. Below is a simple function which takes the mutated value if it was an improvement, otherwise keeps the original value"
      ]
    },
    {
      "cell_type": "code",
      "metadata": {
        "id": "c0jb4Yk6JAAK"
      },
      "source": [
        "def select_genes(prev_gene_pop, gene_pop, prev_fitness, fitness):\n",
        "    new_gene_pop = np.zeros_like(gene_pop)\n",
        "    for i, gene in enumerate(gene_pop): \n",
        "        if fitness[i] >= prev_fitness[i]: \n",
        "            new_gene_pop[i] = gene_pop[i]\n",
        "        else:\n",
        "            new_gene_pop[i] = prev_gene_pop[i]\n",
        "\n",
        "    return new_gene_pop"
      ],
      "execution_count": null,
      "outputs": []
    },
    {
      "cell_type": "markdown",
      "metadata": {
        "id": "lEkEX5vSqYLp"
      },
      "source": [
        "# Best gene\n",
        "\n",
        "A function to get the best gene from a population. You may want to use that after the GA has run and you need to visualise the result."
      ]
    },
    {
      "cell_type": "code",
      "metadata": {
        "id": "K80uEWJQqbqv"
      },
      "source": [
        "def get_best_gene(gene_pop, fitness):\n",
        "    i = np.argmax(fitness)\n",
        "    return gene_pop[i]"
      ],
      "execution_count": null,
      "outputs": []
    },
    {
      "cell_type": "markdown",
      "metadata": {
        "id": "MeDUuWKWKl_7"
      },
      "source": [
        "## Hill climbing"
      ]
    },
    {
      "cell_type": "code",
      "metadata": {
        "colab": {
          "base_uri": "https://localhost:8080/"
        },
        "id": "LRnXfeg9E1ma",
        "outputId": "1957bce0-b667-4405-e2b0-62359b349ff2"
      },
      "source": [
        "# Parameters\n",
        "epochs, pop_size, mutation_std = 1000, 15, 0.01\n",
        "num_obs, num_actions = 4, 1 \n",
        "\n",
        "# Create our agent\n",
        "agent = Agent(num_obs, num_actions)\n",
        "\n",
        "# Create our gene population\n",
        "gene_pop = np.random.normal(0, 0.1, (pop_size, agent.num_genes))\n",
        "\n",
        "# Get init fitness of the population\n",
        "fitness = fitness_function(env, agent, gene_pop)\n",
        "\n",
        "prev_fitness = fitness\n",
        "prev_gene_pop = gene_pop\n",
        "\n",
        "# Main loop\n",
        "for epoch in range(epochs):\n",
        "    # Mutate our population\n",
        "    gene_pop = mutation_function(prev_gene_pop, std=mutation_std)\n",
        "\n",
        "    # Get fitness of the population\n",
        "    fitness = fitness_function(env, agent, gene_pop)\n",
        "\n",
        "    # Apply selection \n",
        "    gene_pop = select_genes(prev_gene_pop, gene_pop, prev_fitness, fitness)\n",
        "\n",
        "    prev_fitness = fitness\n",
        "    prev_gene_pop = gene_pop\n",
        "\n",
        "    if epoch % 100 == 0:\n",
        "        print(f\"Mean fitness of population {fitness.mean()}\")\n",
        "        print(f\"Max fitness of population {fitness.max()}\")"
      ],
      "execution_count": null,
      "outputs": [
        {
          "output_type": "stream",
          "text": [
            "Mean fitness of population 15.2\n",
            "Max fitness of population 55.0\n",
            "Mean fitness of population 20.533333333333335\n",
            "Max fitness of population 168.0\n",
            "Mean fitness of population 12.066666666666666\n",
            "Max fitness of population 29.0\n",
            "Mean fitness of population 13.4\n",
            "Max fitness of population 36.0\n",
            "Mean fitness of population 10.8\n",
            "Max fitness of population 25.0\n",
            "Mean fitness of population 10.4\n",
            "Max fitness of population 24.0\n",
            "Mean fitness of population 9.666666666666666\n",
            "Max fitness of population 15.0\n",
            "Mean fitness of population 10.733333333333333\n",
            "Max fitness of population 19.0\n",
            "Mean fitness of population 17.466666666666665\n",
            "Max fitness of population 62.0\n",
            "Mean fitness of population 17.066666666666666\n",
            "Max fitness of population 55.0\n"
          ],
          "name": "stdout"
        }
      ]
    },
    {
      "cell_type": "markdown",
      "metadata": {
        "id": "yQvDjqN1O_Ub"
      },
      "source": [
        "## Visualise agent"
      ]
    },
    {
      "cell_type": "code",
      "metadata": {
        "colab": {
          "base_uri": "https://localhost:8080/",
          "height": 299
        },
        "id": "DSUeSsDCPCyp",
        "outputId": "4e714143-f7a6-405d-d281-b19d13a5f444"
      },
      "source": [
        "# Visualise our agent\n",
        "best_gene = get_best_gene(gene_pop, fitness)\n",
        "agent.set_genes(best_gene)\n",
        "visual_episode(env, agent)"
      ],
      "execution_count": null,
      "outputs": [
        {
          "output_type": "execute_result",
          "data": {
            "text/plain": [
              "45.0"
            ]
          },
          "metadata": {
            "tags": []
          },
          "execution_count": 15
        },
        {
          "output_type": "display_data",
          "data": {
            "image/png": "[encoded data removed]",
            "text/plain": [
              "<Figure size 432x288 with 1 Axes>"
            ]
          },
          "metadata": {
            "tags": [],
            "needs_background": "light"
          }
        }
      ]
    },
    {
      "cell_type": "code",
      "metadata": {
        "id": "dp54M_kcpvI8"
      },
      "source": [
        ""
      ],
      "execution_count": null,
      "outputs": []
    },
    {
      "cell_type": "markdown",
      "metadata": {
        "id": "oTwhVYg0D6oz"
      },
      "source": [
        "# GA"
      ]
    },
    {
      "cell_type": "code",
      "metadata": {
        "id": "STyWIBp3D_1-"
      },
      "source": [
        "class Agent:\n",
        "    def __init__(self, num_input, num_output):\n",
        "        self.num_input = num_input \n",
        "        self.num_output = num_output\n",
        "        self.num_genes = num_input * num_output + num_output\n",
        "        self.weights = None\n",
        "        self.bias = None\n",
        "\n",
        "    def set_genes(self, gene):\n",
        "        weight_idxs = self.num_input * self.num_output\n",
        "        bias_idxs = self.num_input * self.num_output + self.num_output\n",
        "        w = gene[0 : weight_idxs].reshape(self.num_output, self.num_input)   \n",
        "        b = gene[weight_idxs: bias_idxs].reshape(self.num_output,)\n",
        "        self.weights = torch.from_numpy(w)\n",
        "        self.bias = torch.from_numpy(b)\n",
        "\n",
        "    def forward(self, x):\n",
        "        x = torch.from_numpy(x).unsqueeze(0)\n",
        "        return torch.mm(x, self.weights.T) + self.bias\n",
        "\n",
        "    def get_action(self, x):\n",
        "        if self.forward(x) > 0:\n",
        "            return 1\n",
        "        else:\n",
        "            return 0"
      ],
      "execution_count": 19,
      "outputs": []
    },
    {
      "cell_type": "code",
      "metadata": {
        "id": "VCnAFi6jECyj"
      },
      "source": [
        "def fitness_function(env, agent, gene_pop):\n",
        "    # Get fitness for each gene\n",
        "    pop_size = gene_pop.shape[0]\n",
        "    pop_fitness = np.zeros(pop_size)\n",
        "    for i, gene in enumerate(gene_pop):\n",
        "        agent.set_genes(gene)\n",
        "        pop_fitness[i] = run_episode(env, agent)\n",
        "    return pop_fitness\n",
        "\n",
        "# tournament selection\n",
        "def selection(pop, fit_value,k):\n",
        "\n",
        "    #choose random point\n",
        "    point=random.randint(0, len(pop)-1-k)\n",
        "    # Pick individuals for tournament\n",
        "    fighter1 = point\n",
        "    fighter2 = random.randint(point+1, point+k)\n",
        "    \n",
        "    # Get fitness value for each\n",
        "    fighter1_fitness = fit_value[fighter1]\n",
        "    fighter2_fitness = fit_value[fighter2]\n",
        "    \n",
        "    # Identify undividual with highest fitness\n",
        "    # Fighter 1 will win if score are equal\n",
        "    if fighter1_fitness >= fighter2_fitness:\n",
        "      winner_index = fighter1\n",
        "      loser_index = fighter2\n",
        "    else:\n",
        "      winner_index = fighter2\n",
        "      loser_index = fighter1\n",
        "    \n",
        "    # Return the winner,loser and index\n",
        "    return winner_index, loser_index\n",
        " \n",
        "# crossover two parents to create two children\n",
        "def crossover(winner,loser, pc):\n",
        "  \n",
        "\t\t# check for a crossover\n",
        "  if np.random.rand() > pc:\n",
        "\t\t\t# Copy each gene of the winner W to the L\n",
        "    loser = winner\n",
        "      \n",
        "  return loser\n",
        "\t\n",
        "# mutation with flipping the number\n",
        "\n",
        "def mutation(gene_pop,pm, mean=0, std=0.1):\n",
        "  if np.random.rand() < pm:\n",
        "    for i, gene in enumerate(gene_pop):\n",
        "        gene_pop[i] = gene_pop[i] + np.random.normal(mean, std, size=gene.shape)\n",
        "    # constraint\n",
        "    gene_pop[gene_pop > 4] = 4\n",
        "    gene_pop[gene_pop < -4] = -4\n",
        "\n",
        "    return gene_pop\n",
        "\n",
        "def get_best_gene(gene_pop, fitness):\n",
        "    i = np.argmax(fitness)\n",
        "    return gene_pop[i]\n",
        "\n"
      ],
      "execution_count": 20,
      "outputs": []
    },
    {
      "cell_type": "code",
      "metadata": {
        "id": "Er9i8m5sEDrH"
      },
      "source": [
        "# Parameters\n",
        "epochs = 1000\n",
        "num_obs, num_actions = 4, 1\n",
        "maxPop =  50 # number of chromosome\n",
        "pc = 0.5\t\t\t# crossover probability\n",
        "pm = 0.05     # mutation probability\n",
        "k=2    #pick a competitor from the local neighbourhood in the range k\n",
        "results = []\t\t# store results\n",
        "fit_value = []\t\t# fitness for each individual"
      ],
      "execution_count": 21,
      "outputs": []
    },
    {
      "cell_type": "code",
      "metadata": {
        "id": "IjFJbePdEFYe"
      },
      "source": [
        "# Create our agent\n",
        "agent = Agent(num_obs, num_actions)"
      ],
      "execution_count": 22,
      "outputs": []
    },
    {
      "cell_type": "code",
      "metadata": {
        "id": "koX-YzUyEKDr"
      },
      "source": [
        "# Create our gene population\n",
        "pop = np.random.normal(0, 0.1, (maxPop, agent.num_genes))"
      ],
      "execution_count": 33,
      "outputs": []
    },
    {
      "cell_type": "code",
      "metadata": {
        "id": "cxDKloapEK-I"
      },
      "source": [
        "pop"
      ],
      "execution_count": null,
      "outputs": []
    },
    {
      "cell_type": "code",
      "metadata": {
        "id": "luorhD8wENuD"
      },
      "source": [
        "epochs=1000"
      ],
      "execution_count": 30,
      "outputs": []
    },
    {
      "cell_type": "code",
      "metadata": {
        "colab": {
          "base_uri": "https://localhost:8080/"
        },
        "id": "a3KVL1uhEQ2i",
        "outputId": "40cca778-6809-45d0-fd47-f477853e723a"
      },
      "source": [
        "fitness_history_mean,fitness_history_max=[],[]\n",
        "\n",
        "# Get init fitness of the population\n",
        "fit_value = fitness_function(env, agent, pop)\n",
        "\n",
        "prev_fitness = fit_value\n",
        "prev_pop = pop\n",
        "\n",
        "\n",
        "# Main loop\n",
        "for epoch in range(epochs):\n",
        "    \n",
        "    #create new pop list\n",
        "    new_pop=[]\n",
        "    new_pop=np.copy(pop)\n",
        "\n",
        "    #selection\n",
        "    winner_index,loser_index = selection(pop, fit_value,k)  \n",
        "    \n",
        "    #crossover\n",
        "    new_loser= crossover(pop[winner_index],pop[loser_index], pc)\n",
        "\n",
        "    #replace \n",
        "    new_pop[loser_index]=new_loser\n",
        "    pop=new_pop\n",
        "    \n",
        "    #mutation\n",
        "    mutation(pop[loser_index], pm)\n",
        "    \n",
        "  \n",
        "    # Score best solution\n",
        "    fit_value = fitness_function(env, agent, pop)\n",
        "    prev_pop = pop\n",
        "    \n",
        "    fmax= np.max(fit_value)\n",
        "    fmean = np.mean(fit_value) \n",
        "    fitness_history_mean.append(fmean)\n",
        "    fitness_history_max.append(fmax)\n",
        "    '''\n",
        "    print('fit of epoch %s' % epoch)\n",
        "    print(fit_value)\n",
        "    '''\n",
        "    \n",
        "    if epoch == 0:\n",
        "      pop1=pop\n",
        "      fit_value1=fit_value\n",
        "    if epoch == 500:\n",
        "      pop2=pop\n",
        "      fit_value2=fit_value\n",
        "    if epoch == 999:\n",
        "      pop3=pop\n",
        "      fit_value3=fit_value\n",
        "\n",
        "    if epoch % 100 == 0:\n",
        "      print(f\"Mean fitness of population {fmean}\")\n",
        "      print(f\"Max fitness of population {fmax}\")"
      ],
      "execution_count": 34,
      "outputs": [
        {
          "output_type": "stream",
          "text": [
            "Mean fitness of population 17.78\n",
            "Max fitness of population 91.0\n",
            "Mean fitness of population 26.2\n",
            "Max fitness of population 99.0\n",
            "Mean fitness of population 39.4\n",
            "Max fitness of population 143.0\n",
            "Mean fitness of population 45.12\n",
            "Max fitness of population 109.0\n",
            "Mean fitness of population 57.88\n",
            "Max fitness of population 500.0\n",
            "Mean fitness of population 58.14\n",
            "Max fitness of population 313.0\n",
            "Mean fitness of population 75.72\n",
            "Max fitness of population 500.0\n",
            "Mean fitness of population 93.68\n",
            "Max fitness of population 500.0\n",
            "Mean fitness of population 127.96\n",
            "Max fitness of population 500.0\n",
            "Mean fitness of population 176.06\n",
            "Max fitness of population 500.0\n"
          ],
          "name": "stdout"
        }
      ]
    },
    {
      "cell_type": "markdown",
      "metadata": {
        "id": "ERVpswNgUERu"
      },
      "source": [
        "### result and video"
      ]
    },
    {
      "cell_type": "code",
      "metadata": {
        "id": "FJ9ejdPcERy4",
        "colab": {
          "base_uri": "https://localhost:8080/",
          "height": 295
        },
        "outputId": "715e28de-f29d-464b-e6d5-eb47df603362"
      },
      "source": [
        "plt.plot(list(range(epochs)),fitness_history_mean, label = 'Mean Fitness')\n",
        "plt.plot(list(range(epochs)),fitness_history_max, label = 'Max Fitness')\n",
        "plt.legend()\n",
        "plt.title('Figure1. reword through the epochs')\n",
        "plt.xlabel('epochs')\n",
        "plt.ylabel('reward')\n",
        "plt.show()"
      ],
      "execution_count": 35,
      "outputs": [
        {
          "output_type": "display_data",
          "data": {
            "image/png": "[encoded data removed]",
            "text/plain": [
              "<Figure size 432x288 with 1 Axes>"
            ]
          },
          "metadata": {
            "tags": [],
            "needs_background": "light"
          }
        }
      ]
    },
    {
      "cell_type": "code",
      "metadata": {
        "colab": {
          "base_uri": "https://localhost:8080/",
          "height": 438
        },
        "id": "WF3N1f0METnD",
        "outputId": "2eb46464-8d6c-4d04-dd35-af67ac37890e"
      },
      "source": [
        "# Visualise our agent\n",
        "best_gene = get_best_gene(pop, fit_value)\n",
        "agent.set_genes(best_gene)\n",
        "visual_episode(env, agent)"
      ],
      "execution_count": 40,
      "outputs": [
        {
          "output_type": "display_data",
          "data": {
            "text/html": [
              "<video alt=\"test\" autoplay \n",
              "                loop controls style=\"height: 400px;\">\n",
              "                <source src=\"data:video/mp4;base64,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\" type=\"video/mp4\" />\n",
              "             </video>"
            ],
            "text/plain": [
              "<IPython.core.display.HTML object>"
            ]
          },
          "metadata": {
            "tags": []
          }
        },
        {
          "output_type": "execute_result",
          "data": {
            "text/plain": [
              "500.0"
            ]
          },
          "metadata": {
            "tags": []
          },
          "execution_count": 40
        }
      ]
    },
    {
      "cell_type": "code",
      "metadata": {
        "id": "Vdl3aHA9EWMC"
      },
      "source": [
        "def visual_episode2(env, agent=None):\n",
        "    \n",
        "    obs_velocity,obs_angle=[],[]\n",
        "\n",
        "    \n",
        "    tot_reward = 0.0\n",
        "    obs = env.reset()\n",
        "    done = False\n",
        "    curr_t = 0\n",
        "    while not done:\n",
        "        if agent is not None:\n",
        "            action = agent.get_action(obs)\n",
        "        else:\n",
        "            action = env.action_space.sample()\n",
        "        obs, reward, done, info = env.step(action)\n",
        "        \n",
        "        obs_velocity.append(obs[1])\n",
        "        obs_angle.append(obs[2])\n",
        "\n",
        "        screen = env.render(mode='rgb_array')\n",
        "        tot_reward = tot_reward + reward\n",
        "\n",
        "        curr_t = curr_t + 1\n",
        "\n",
        "\n",
        "\n",
        "    plt.plot(obs_velocity, label = 'velocity')\n",
        "    plt.plot(obs_angle, label = 'angle')\n",
        "    plt.legend()\n",
        "    plt.title('velocity and angle through the times')\n",
        "    plt.xlabel('times')\n",
        "    plt.ylabel('obs')\n",
        "    plt.show()\n",
        "    \n",
        "    env.close()\n",
        "    return tot_reward"
      ],
      "execution_count": 36,
      "outputs": []
    },
    {
      "cell_type": "code",
      "metadata": {
        "colab": {
          "base_uri": "https://localhost:8080/",
          "height": 313
        },
        "id": "Df8qN003Q98v",
        "outputId": "33fee518-a9fa-478e-d921-b04b93f91528"
      },
      "source": [
        "visual_episode2(env)"
      ],
      "execution_count": 51,
      "outputs": [
        {
          "output_type": "display_data",
          "data": {
            "image/png": "[encoded data removed]",
            "text/plain": [
              "<Figure size 432x288 with 1 Axes>"
            ]
          },
          "metadata": {
            "tags": [],
            "needs_background": "light"
          }
        },
        {
          "output_type": "execute_result",
          "data": {
            "text/plain": [
              "18.0"
            ]
          },
          "metadata": {
            "tags": []
          },
          "execution_count": 51
        }
      ]
    },
    {
      "cell_type": "code",
      "metadata": {
        "colab": {
          "base_uri": "https://localhost:8080/",
          "height": 313
        },
        "id": "U19xBairEZyT",
        "outputId": "3a1faf4e-1499-4fcc-b69e-28bf8d516447"
      },
      "source": [
        "# Visualise our agent\n",
        "best_gene = get_best_gene(pop1, fit_value1)\n",
        "agent.set_genes(best_gene)\n",
        "visual_episode2(env, agent)"
      ],
      "execution_count": 41,
      "outputs": [
        {
          "output_type": "display_data",
          "data": {
            "image/png": "[encoded data removed]",
            "text/plain": [
              "<Figure size 432x288 with 1 Axes>"
            ]
          },
          "metadata": {
            "tags": [],
            "needs_background": "light"
          }
        },
        {
          "output_type": "execute_result",
          "data": {
            "text/plain": [
              "84.0"
            ]
          },
          "metadata": {
            "tags": []
          },
          "execution_count": 41
        }
      ]
    },
    {
      "cell_type": "code",
      "metadata": {
        "colab": {
          "base_uri": "https://localhost:8080/",
          "height": 313
        },
        "id": "O2BFd9IBF1B2",
        "outputId": "ef6f75e0-cf1c-48d8-c77f-599c61109621"
      },
      "source": [
        "# Visualise our agent\n",
        "best_gene = get_best_gene(pop2, fit_value2)\n",
        "agent.set_genes(best_gene)\n",
        "visual_episode2(env, agent)"
      ],
      "execution_count": 43,
      "outputs": [
        {
          "output_type": "display_data",
          "data": {
            "image/png": "[encoded data removed]",
            "text/plain": [
              "<Figure size 432x288 with 1 Axes>"
            ]
          },
          "metadata": {
            "tags": [],
            "needs_background": "light"
          }
        },
        {
          "output_type": "execute_result",
          "data": {
            "text/plain": [
              "237.0"
            ]
          },
          "metadata": {
            "tags": []
          },
          "execution_count": 43
        }
      ]
    },
    {
      "cell_type": "code",
      "metadata": {
        "colab": {
          "base_uri": "https://localhost:8080/",
          "height": 313
        },
        "id": "d1Mfn_fVF3SZ",
        "outputId": "0c6dcec3-de15-43bc-955c-8b7abb670515"
      },
      "source": [
        "# Visualise our agent\n",
        "best_gene = get_best_gene(pop3, fit_value3)\n",
        "agent.set_genes(best_gene)\n",
        "visual_episode2(env, agent)"
      ],
      "execution_count": 45,
      "outputs": [
        {
          "output_type": "display_data",
          "data": {
            "image/png": "[encoded data removed]",
            "text/plain": [
              "<Figure size 432x288 with 1 Axes>"
            ]
          },
          "metadata": {
            "tags": [],
            "needs_background": "light"
          }
        },
        {
          "output_type": "execute_result",
          "data": {
            "text/plain": [
              "387.0"
            ]
          },
          "metadata": {
            "tags": []
          },
          "execution_count": 45
        }
      ]
    },
    {
      "cell_type": "markdown",
      "metadata": {
        "id": "bdJvqvSGTqI8"
      },
      "source": [
        "# other playing"
      ]
    },
    {
      "cell_type": "code",
      "metadata": {
        "id": "BWUYIs8VTvpO"
      },
      "source": [
        "env.close()"
      ],
      "execution_count": 9,
      "outputs": []
    },
    {
      "cell_type": "code",
      "metadata": {
        "colab": {
          "base_uri": "https://localhost:8080/"
        },
        "id": "M61HqzJ1TvEW",
        "outputId": "78e3578a-e9d5-4957-e66c-a3dc02149509"
      },
      "source": [
        "env_name = 'MountainCar-v0'\n",
        "env = gym.make(env_name)\n",
        "\n",
        "env.reset()\n",
        "done = False\n",
        "while not done:\n",
        "    action = env.action_space.sample() # put agent here\n",
        "    obs, reward, done, info = env.step(action)\n",
        "    print(f\"obs{np.round(obs, 2)} reward {reward} action {action} done {done} info {info}\")"
      ],
      "execution_count": 10,
      "outputs": [
        {
          "output_type": "stream",
          "text": [
            "obs[-0.57  0.  ] reward -1.0 action 1 done False info {}\n",
            "obs[-0.57 -0.  ] reward -1.0 action 0 done False info {}\n",
            "obs[-0.57 -0.  ] reward -1.0 action 0 done False info {}\n",
            "obs[-0.57 -0.  ] reward -1.0 action 0 done False info {}\n",
            "obs[-0.57 -0.  ] reward -1.0 action 1 done False info {}\n",
            "obs[-0.57 -0.  ] reward -1.0 action 1 done False info {}\n",
            "obs[-0.58 -0.  ] reward -1.0 action 0 done False info {}\n",
            "obs[-0.58 -0.  ] reward -1.0 action 1 done False info {}\n",
            "obs[-0.58 -0.  ] reward -1.0 action 0 done False info {}\n",
            "obs[-0.58 -0.  ] reward -1.0 action 2 done False info {}\n",
            "obs[-0.58  0.  ] reward -1.0 action 1 done False info {}\n",
            "obs[-0.58  0.  ] reward -1.0 action 2 done False info {}\n",
            "obs[-0.57  0.  ] reward -1.0 action 2 done False info {}\n",
            "obs[-0.57  0.  ] reward -1.0 action 2 done False info {}\n",
            "obs[-0.57  0.  ] reward -1.0 action 1 done False info {}\n",
            "obs[-0.56  0.  ] reward -1.0 action 0 done False info {}\n",
            "obs[-0.56  0.  ] reward -1.0 action 0 done False info {}\n",
            "obs[-0.56  0.  ] reward -1.0 action 0 done False info {}\n",
            "obs[-0.55  0.  ] reward -1.0 action 2 done False info {}\n",
            "obs[-0.55  0.  ] reward -1.0 action 0 done False info {}\n",
            "obs[-0.55  0.  ] reward -1.0 action 1 done False info {}\n",
            "obs[-0.54  0.  ] reward -1.0 action 0 done False info {}\n",
            "obs[-0.54  0.  ] reward -1.0 action 2 done False info {}\n",
            "obs[-0.54  0.  ] reward -1.0 action 1 done False info {}\n",
            "obs[-0.53  0.  ] reward -1.0 action 2 done False info {}\n",
            "obs[-0.53  0.  ] reward -1.0 action 1 done False info {}\n",
            "obs[-0.52  0.  ] reward -1.0 action 1 done False info {}\n",
            "obs[-0.52  0.  ] reward -1.0 action 1 done False info {}\n",
            "obs[-0.51  0.01] reward -1.0 action 2 done False info {}\n",
            "obs[-0.51  0.01] reward -1.0 action 1 done False info {}\n",
            "obs[-0.5  0. ] reward -1.0 action 0 done False info {}\n",
            "obs[-0.5  0. ] reward -1.0 action 1 done False info {}\n",
            "obs[-0.49  0.01] reward -1.0 action 2 done False info {}\n",
            "obs[-0.49  0.  ] reward -1.0 action 0 done False info {}\n",
            "obs[-0.48  0.  ] reward -1.0 action 2 done False info {}\n",
            "obs[-0.48  0.  ] reward -1.0 action 0 done False info {}\n",
            "obs[-0.48  0.  ] reward -1.0 action 0 done False info {}\n",
            "obs[-0.48  0.  ] reward -1.0 action 1 done False info {}\n",
            "obs[-0.47  0.  ] reward -1.0 action 2 done False info {}\n",
            "obs[-0.47  0.  ] reward -1.0 action 1 done False info {}\n",
            "obs[-0.47  0.  ] reward -1.0 action 0 done False info {}\n",
            "obs[-0.47  0.  ] reward -1.0 action 2 done False info {}\n",
            "obs[-0.47 -0.  ] reward -1.0 action 0 done False info {}\n",
            "obs[-0.47  0.  ] reward -1.0 action 2 done False info {}\n",
            "obs[-0.47 -0.  ] reward -1.0 action 0 done False info {}\n",
            "obs[-0.47 -0.  ] reward -1.0 action 1 done False info {}\n",
            "obs[-0.47 -0.  ] reward -1.0 action 1 done False info {}\n",
            "obs[-0.48 -0.  ] reward -1.0 action 2 done False info {}\n",
            "obs[-0.48 -0.  ] reward -1.0 action 2 done False info {}\n",
            "obs[-0.48  0.  ] reward -1.0 action 2 done False info {}\n",
            "obs[-0.48 -0.  ] reward -1.0 action 1 done False info {}\n",
            "obs[-0.48 -0.  ] reward -1.0 action 1 done False info {}\n",
            "obs[-0.48  0.  ] reward -1.0 action 2 done False info {}\n",
            "obs[-0.48 -0.  ] reward -1.0 action 1 done False info {}\n",
            "obs[-0.48  0.  ] reward -1.0 action 2 done False info {}\n",
            "obs[-0.48  0.  ] reward -1.0 action 1 done False info {}\n",
            "obs[-0.48 -0.  ] reward -1.0 action 1 done False info {}\n",
            "obs[-0.48  0.  ] reward -1.0 action 2 done False info {}\n",
            "obs[-0.48 -0.  ] reward -1.0 action 0 done False info {}\n",
            "obs[-0.48 -0.  ] reward -1.0 action 1 done False info {}\n",
            "obs[-0.48 -0.  ] reward -1.0 action 2 done False info {}\n",
            "obs[-0.48 -0.  ] reward -1.0 action 1 done False info {}\n",
            "obs[-0.48 -0.  ] reward -1.0 action 2 done False info {}\n",
            "obs[-0.48  0.  ] reward -1.0 action 2 done False info {}\n",
            "obs[-0.48  0.  ] reward -1.0 action 2 done False info {}\n",
            "obs[-0.48 -0.  ] reward -1.0 action 0 done False info {}\n",
            "obs[-0.48 -0.  ] reward -1.0 action 0 done False info {}\n",
            "obs[-0.48 -0.  ] reward -1.0 action 2 done False info {}\n",
            "obs[-0.48 -0.  ] reward -1.0 action 1 done False info {}\n",
            "obs[-0.48 -0.  ] reward -1.0 action 1 done False info {}\n",
            "obs[-0.49 -0.  ] reward -1.0 action 1 done False info {}\n",
            "obs[-0.49 -0.  ] reward -1.0 action 2 done False info {}\n",
            "obs[-0.49 -0.  ] reward -1.0 action 1 done False info {}\n",
            "obs[-0.49 -0.  ] reward -1.0 action 2 done False info {}\n",
            "obs[-0.49 -0.  ] reward -1.0 action 0 done False info {}\n",
            "obs[-0.49 -0.  ] reward -1.0 action 1 done False info {}\n",
            "obs[-0.5 -0. ] reward -1.0 action 0 done False info {}\n",
            "obs[-0.5 -0. ] reward -1.0 action 0 done False info {}\n",
            "obs[-0.51 -0.01] reward -1.0 action 0 done False info {}\n",
            "obs[-0.51 -0.  ] reward -1.0 action 2 done False info {}\n",
            "obs[-0.52 -0.01] reward -1.0 action 0 done False info {}\n",
            "obs[-0.52 -0.01] reward -1.0 action 1 done False info {}\n",
            "obs[-0.53 -0.01] reward -1.0 action 0 done False info {}\n",
            "obs[-0.54 -0.01] reward -1.0 action 2 done False info {}\n",
            "obs[-0.54 -0.  ] reward -1.0 action 2 done False info {}\n",
            "obs[-0.55 -0.01] reward -1.0 action 0 done False info {}\n",
            "obs[-0.55 -0.  ] reward -1.0 action 2 done False info {}\n",
            "obs[-0.56 -0.01] reward -1.0 action 0 done False info {}\n",
            "obs[-0.56 -0.  ] reward -1.0 action 2 done False info {}\n",
            "obs[-0.56 -0.  ] reward -1.0 action 2 done False info {}\n",
            "obs[-0.57 -0.  ] reward -1.0 action 1 done False info {}\n",
            "obs[-0.57 -0.  ] reward -1.0 action 1 done False info {}\n",
            "obs[-0.57 -0.  ] reward -1.0 action 1 done False info {}\n",
            "obs[-0.57 -0.  ] reward -1.0 action 2 done False info {}\n",
            "obs[-0.57 -0.  ] reward -1.0 action 1 done False info {}\n",
            "obs[-0.57 -0.  ] reward -1.0 action 0 done False info {}\n",
            "obs[-0.57 -0.  ] reward -1.0 action 0 done False info {}\n",
            "obs[-0.58 -0.  ] reward -1.0 action 0 done False info {}\n",
            "obs[-0.58 -0.  ] reward -1.0 action 2 done False info {}\n",
            "obs[-0.58 -0.  ] reward -1.0 action 0 done False info {}\n",
            "obs[-0.58  0.  ] reward -1.0 action 2 done False info {}\n",
            "obs[-0.58  0.  ] reward -1.0 action 2 done False info {}\n",
            "obs[-0.57  0.  ] reward -1.0 action 1 done False info {}\n",
            "obs[-0.57  0.  ] reward -1.0 action 0 done False info {}\n",
            "obs[-0.57  0.  ] reward -1.0 action 2 done False info {}\n",
            "obs[-0.57  0.  ] reward -1.0 action 1 done False info {}\n",
            "obs[-0.56  0.  ] reward -1.0 action 0 done False info {}\n",
            "obs[-0.56  0.  ] reward -1.0 action 1 done False info {}\n",
            "obs[-0.56  0.  ] reward -1.0 action 1 done False info {}\n",
            "obs[-0.55  0.  ] reward -1.0 action 2 done False info {}\n",
            "obs[-0.55  0.01] reward -1.0 action 2 done False info {}\n",
            "obs[-0.54  0.  ] reward -1.0 action 0 done False info {}\n",
            "obs[-0.54  0.  ] reward -1.0 action 0 done False info {}\n",
            "obs[-0.54  0.  ] reward -1.0 action 0 done False info {}\n",
            "obs[-0.53  0.  ] reward -1.0 action 2 done False info {}\n",
            "obs[-0.53  0.  ] reward -1.0 action 0 done False info {}\n",
            "obs[-0.53  0.  ] reward -1.0 action 2 done False info {}\n",
            "obs[-0.52  0.01] reward -1.0 action 2 done False info {}\n",
            "obs[-0.52  0.  ] reward -1.0 action 0 done False info {}\n",
            "obs[-0.51  0.  ] reward -1.0 action 1 done False info {}\n",
            "obs[-0.51  0.  ] reward -1.0 action 1 done False info {}\n",
            "obs[-0.51  0.  ] reward -1.0 action 0 done False info {}\n",
            "obs[-0.5  0. ] reward -1.0 action 0 done False info {}\n",
            "obs[-0.5  0. ] reward -1.0 action 2 done False info {}\n",
            "obs[-0.5  0. ] reward -1.0 action 2 done False info {}\n",
            "obs[-0.5  0. ] reward -1.0 action 0 done False info {}\n",
            "obs[-0.49  0.  ] reward -1.0 action 2 done False info {}\n",
            "obs[-0.49  0.  ] reward -1.0 action 0 done False info {}\n",
            "obs[-0.49  0.  ] reward -1.0 action 2 done False info {}\n",
            "obs[-0.49  0.  ] reward -1.0 action 2 done False info {}\n",
            "obs[-0.48  0.  ] reward -1.0 action 2 done False info {}\n",
            "obs[-0.48  0.  ] reward -1.0 action 1 done False info {}\n",
            "obs[-0.48  0.  ] reward -1.0 action 0 done False info {}\n",
            "obs[-0.47  0.  ] reward -1.0 action 0 done False info {}\n",
            "obs[-0.47 -0.  ] reward -1.0 action 0 done False info {}\n",
            "obs[-0.48 -0.  ] reward -1.0 action 0 done False info {}\n",
            "obs[-0.48 -0.  ] reward -1.0 action 2 done False info {}\n",
            "obs[-0.48 -0.  ] reward -1.0 action 1 done False info {}\n",
            "obs[-0.48 -0.  ] reward -1.0 action 0 done False info {}\n",
            "obs[-0.48 -0.  ] reward -1.0 action 1 done False info {}\n",
            "obs[-0.49 -0.  ] reward -1.0 action 2 done False info {}\n",
            "obs[-0.49 -0.  ] reward -1.0 action 0 done False info {}\n",
            "obs[-0.5 -0. ] reward -1.0 action 0 done False info {}\n",
            "obs[-0.5  -0.01] reward -1.0 action 1 done False info {}\n",
            "obs[-0.51 -0.01] reward -1.0 action 0 done False info {}\n",
            "obs[-0.51 -0.01] reward -1.0 action 1 done False info {}\n",
            "obs[-0.52 -0.01] reward -1.0 action 2 done False info {}\n",
            "obs[-0.53 -0.01] reward -1.0 action 0 done False info {}\n",
            "obs[-0.53 -0.01] reward -1.0 action 2 done False info {}\n",
            "obs[-0.54 -0.01] reward -1.0 action 0 done False info {}\n",
            "obs[-0.54 -0.01] reward -1.0 action 1 done False info {}\n",
            "obs[-0.55 -0.01] reward -1.0 action 2 done False info {}\n",
            "obs[-0.55 -0.01] reward -1.0 action 0 done False info {}\n",
            "obs[-0.56 -0.01] reward -1.0 action 0 done False info {}\n",
            "obs[-0.57 -0.01] reward -1.0 action 2 done False info {}\n",
            "obs[-0.57 -0.01] reward -1.0 action 0 done False info {}\n",
            "obs[-0.58 -0.01] reward -1.0 action 1 done False info {}\n",
            "obs[-0.58 -0.01] reward -1.0 action 1 done False info {}\n",
            "obs[-0.59 -0.  ] reward -1.0 action 1 done False info {}\n",
            "obs[-0.59 -0.  ] reward -1.0 action 2 done False info {}\n",
            "obs[-0.59 -0.  ] reward -1.0 action 2 done False info {}\n",
            "obs[-0.6 -0. ] reward -1.0 action 0 done False info {}\n",
            "obs[-0.6 -0. ] reward -1.0 action 2 done False info {}\n",
            "obs[-0.6 -0. ] reward -1.0 action 1 done False info {}\n",
            "obs[-0.6 -0. ] reward -1.0 action 0 done False info {}\n",
            "obs[-0.6 -0. ] reward -1.0 action 1 done False info {}\n",
            "obs[-0.6 -0. ] reward -1.0 action 0 done False info {}\n",
            "obs[-0.6  0. ] reward -1.0 action 2 done False info {}\n",
            "obs[-0.6  0. ] reward -1.0 action 1 done False info {}\n",
            "obs[-0.6  0. ] reward -1.0 action 0 done False info {}\n",
            "obs[-0.59  0.  ] reward -1.0 action 2 done False info {}\n",
            "obs[-0.59  0.  ] reward -1.0 action 1 done False info {}\n",
            "obs[-0.59  0.  ] reward -1.0 action 1 done False info {}\n",
            "obs[-0.58  0.  ] reward -1.0 action 0 done False info {}\n",
            "obs[-0.58  0.  ] reward -1.0 action 2 done False info {}\n",
            "obs[-0.58  0.  ] reward -1.0 action 0 done False info {}\n",
            "obs[-0.57  0.01] reward -1.0 action 2 done False info {}\n",
            "obs[-0.57  0.  ] reward -1.0 action 0 done False info {}\n",
            "obs[-0.56  0.  ] reward -1.0 action 0 done False info {}\n",
            "obs[-0.56  0.  ] reward -1.0 action 1 done False info {}\n",
            "obs[-0.55  0.  ] reward -1.0 action 1 done False info {}\n",
            "obs[-0.55  0.01] reward -1.0 action 2 done False info {}\n",
            "obs[-0.54  0.01] reward -1.0 action 2 done False info {}\n",
            "obs[-0.53  0.01] reward -1.0 action 0 done False info {}\n",
            "obs[-0.53  0.01] reward -1.0 action 1 done False info {}\n",
            "obs[-0.52  0.01] reward -1.0 action 2 done False info {}\n",
            "obs[-0.51  0.01] reward -1.0 action 2 done False info {}\n",
            "obs[-0.5   0.01] reward -1.0 action 1 done False info {}\n",
            "obs[-0.5   0.01] reward -1.0 action 0 done False info {}\n",
            "obs[-0.49  0.01] reward -1.0 action 2 done False info {}\n",
            "obs[-0.48  0.01] reward -1.0 action 1 done False info {}\n",
            "obs[-0.48  0.01] reward -1.0 action 0 done False info {}\n",
            "obs[-0.47  0.  ] reward -1.0 action 0 done False info {}\n",
            "obs[-0.47  0.01] reward -1.0 action 2 done False info {}\n",
            "obs[-0.46  0.  ] reward -1.0 action 0 done False info {}\n",
            "obs[-0.46  0.  ] reward -1.0 action 2 done False info {}\n",
            "obs[-0.45  0.  ] reward -1.0 action 1 done False info {}\n",
            "obs[-0.45  0.  ] reward -1.0 action 2 done False info {}\n",
            "obs[-0.45  0.  ] reward -1.0 action 0 done False info {}\n",
            "obs[-0.44  0.  ] reward -1.0 action 2 done True info {'TimeLimit.truncated': True}\n"
          ],
          "name": "stdout"
        }
      ]
    },
    {
      "cell_type": "code",
      "metadata": {
        "colab": {
          "base_uri": "https://localhost:8080/",
          "height": 323
        },
        "id": "XwUPZ2BrUQEq",
        "outputId": "4b03c446-be70-4af1-9f8d-5f4201ea5d40"
      },
      "source": [
        "visual_episode(env)"
      ],
      "execution_count": 11,
      "outputs": [
        {
          "output_type": "error",
          "ename": "NameError",
          "evalue": "ignored",
          "traceback": [
            "\u001b[0;31m---------------------------------------------------------------------------\u001b[0m",
            "\u001b[0;31mNameError\u001b[0m                                 Traceback (most recent call last)",
            "\u001b[0;32m<ipython-input-11-855d578bc204>\u001b[0m in \u001b[0;36m<module>\u001b[0;34m()\u001b[0m\n\u001b[0;32m----> 1\u001b[0;31m \u001b[0mvisual_episode\u001b[0m\u001b[0;34m(\u001b[0m\u001b[0menv\u001b[0m\u001b[0;34m)\u001b[0m\u001b[0;34m\u001b[0m\u001b[0;34m\u001b[0m\u001b[0m\n\u001b[0m",
            "\u001b[0;32m<ipython-input-7-b42a092e08ec>\u001b[0m in \u001b[0;36mvisual_episode\u001b[0;34m(env, agent)\u001b[0m\n\u001b[1;32m      3\u001b[0m     \u001b[0mdisplay\u001b[0m \u001b[0;34m=\u001b[0m \u001b[0mDisplay\u001b[0m\u001b[0;34m(\u001b[0m\u001b[0mvisible\u001b[0m\u001b[0;34m=\u001b[0m\u001b[0;36m0\u001b[0m\u001b[0;34m,\u001b[0m \u001b[0msize\u001b[0m\u001b[0;34m=\u001b[0m\u001b[0;34m(\u001b[0m\u001b[0;36m400\u001b[0m\u001b[0;34m,\u001b[0m \u001b[0;36m300\u001b[0m\u001b[0;34m)\u001b[0m\u001b[0;34m)\u001b[0m\u001b[0;34m\u001b[0m\u001b[0;34m\u001b[0m\u001b[0m\n\u001b[1;32m      4\u001b[0m     \u001b[0mdisplay\u001b[0m\u001b[0;34m.\u001b[0m\u001b[0mstart\u001b[0m\u001b[0;34m(\u001b[0m\u001b[0;34m)\u001b[0m\u001b[0;34m\u001b[0m\u001b[0;34m\u001b[0m\u001b[0m\n\u001b[0;32m----> 5\u001b[0;31m     \u001b[0mprev_screen\u001b[0m \u001b[0;34m=\u001b[0m \u001b[0menv\u001b[0m\u001b[0;34m.\u001b[0m\u001b[0mrender\u001b[0m\u001b[0;34m(\u001b[0m\u001b[0mmode\u001b[0m\u001b[0;34m=\u001b[0m\u001b[0;34m'rgb_array'\u001b[0m\u001b[0;34m)\u001b[0m\u001b[0;34m\u001b[0m\u001b[0;34m\u001b[0m\u001b[0m\n\u001b[0m\u001b[1;32m      6\u001b[0m     \u001b[0mplt\u001b[0m\u001b[0;34m.\u001b[0m\u001b[0mimshow\u001b[0m\u001b[0;34m(\u001b[0m\u001b[0mprev_screen\u001b[0m\u001b[0;34m)\u001b[0m\u001b[0;34m\u001b[0m\u001b[0;34m\u001b[0m\u001b[0m\n\u001b[1;32m      7\u001b[0m \u001b[0;34m\u001b[0m\u001b[0m\n",
            "\u001b[0;32m/usr/local/lib/python3.7/dist-packages/gym/core.py\u001b[0m in \u001b[0;36mrender\u001b[0;34m(self, mode, **kwargs)\u001b[0m\n\u001b[1;32m    238\u001b[0m \u001b[0;34m\u001b[0m\u001b[0m\n\u001b[1;32m    239\u001b[0m     \u001b[0;32mdef\u001b[0m \u001b[0mrender\u001b[0m\u001b[0;34m(\u001b[0m\u001b[0mself\u001b[0m\u001b[0;34m,\u001b[0m \u001b[0mmode\u001b[0m\u001b[0;34m=\u001b[0m\u001b[0;34m'human'\u001b[0m\u001b[0;34m,\u001b[0m \u001b[0;34m**\u001b[0m\u001b[0mkwargs\u001b[0m\u001b[0;34m)\u001b[0m\u001b[0;34m:\u001b[0m\u001b[0;34m\u001b[0m\u001b[0;34m\u001b[0m\u001b[0m\n\u001b[0;32m--> 240\u001b[0;31m         \u001b[0;32mreturn\u001b[0m \u001b[0mself\u001b[0m\u001b[0;34m.\u001b[0m\u001b[0menv\u001b[0m\u001b[0;34m.\u001b[0m\u001b[0mrender\u001b[0m\u001b[0;34m(\u001b[0m\u001b[0mmode\u001b[0m\u001b[0;34m,\u001b[0m \u001b[0;34m**\u001b[0m\u001b[0mkwargs\u001b[0m\u001b[0;34m)\u001b[0m\u001b[0;34m\u001b[0m\u001b[0;34m\u001b[0m\u001b[0m\n\u001b[0m\u001b[1;32m    241\u001b[0m \u001b[0;34m\u001b[0m\u001b[0m\n\u001b[1;32m    242\u001b[0m     \u001b[0;32mdef\u001b[0m \u001b[0mclose\u001b[0m\u001b[0;34m(\u001b[0m\u001b[0mself\u001b[0m\u001b[0;34m)\u001b[0m\u001b[0;34m:\u001b[0m\u001b[0;34m\u001b[0m\u001b[0;34m\u001b[0m\u001b[0m\n",
            "\u001b[0;32m/usr/local/lib/python3.7/dist-packages/gym/envs/classic_control/mountain_car.py\u001b[0m in \u001b[0;36mrender\u001b[0;34m(self, mode)\u001b[0m\n\u001b[1;32m    124\u001b[0m \u001b[0;34m\u001b[0m\u001b[0m\n\u001b[1;32m    125\u001b[0m         \u001b[0;32mif\u001b[0m \u001b[0mself\u001b[0m\u001b[0;34m.\u001b[0m\u001b[0mviewer\u001b[0m \u001b[0;32mis\u001b[0m \u001b[0;32mNone\u001b[0m\u001b[0;34m:\u001b[0m\u001b[0;34m\u001b[0m\u001b[0;34m\u001b[0m\u001b[0m\n\u001b[0;32m--> 126\u001b[0;31m             \u001b[0;32mfrom\u001b[0m \u001b[0mgym\u001b[0m\u001b[0;34m.\u001b[0m\u001b[0menvs\u001b[0m\u001b[0;34m.\u001b[0m\u001b[0mclassic_control\u001b[0m \u001b[0;32mimport\u001b[0m \u001b[0mrendering\u001b[0m\u001b[0;34m\u001b[0m\u001b[0;34m\u001b[0m\u001b[0m\n\u001b[0m\u001b[1;32m    127\u001b[0m             \u001b[0mself\u001b[0m\u001b[0;34m.\u001b[0m\u001b[0mviewer\u001b[0m \u001b[0;34m=\u001b[0m \u001b[0mrendering\u001b[0m\u001b[0;34m.\u001b[0m\u001b[0mViewer\u001b[0m\u001b[0;34m(\u001b[0m\u001b[0mscreen_width\u001b[0m\u001b[0;34m,\u001b[0m \u001b[0mscreen_height\u001b[0m\u001b[0;34m)\u001b[0m\u001b[0;34m\u001b[0m\u001b[0;34m\u001b[0m\u001b[0m\n\u001b[1;32m    128\u001b[0m             \u001b[0mxs\u001b[0m \u001b[0;34m=\u001b[0m \u001b[0mnp\u001b[0m\u001b[0;34m.\u001b[0m\u001b[0mlinspace\u001b[0m\u001b[0;34m(\u001b[0m\u001b[0mself\u001b[0m\u001b[0;34m.\u001b[0m\u001b[0mmin_position\u001b[0m\u001b[0;34m,\u001b[0m \u001b[0mself\u001b[0m\u001b[0;34m.\u001b[0m\u001b[0mmax_position\u001b[0m\u001b[0;34m,\u001b[0m \u001b[0;36m100\u001b[0m\u001b[0;34m)\u001b[0m\u001b[0;34m\u001b[0m\u001b[0;34m\u001b[0m\u001b[0m\n",
            "\u001b[0;32m/usr/local/lib/python3.7/dist-packages/gym/envs/classic_control/rendering.py\u001b[0m in \u001b[0;36m<module>\u001b[0;34m()\u001b[0m\n\u001b[1;32m     23\u001b[0m \u001b[0;34m\u001b[0m\u001b[0m\n\u001b[1;32m     24\u001b[0m \u001b[0;32mtry\u001b[0m\u001b[0;34m:\u001b[0m\u001b[0;34m\u001b[0m\u001b[0;34m\u001b[0m\u001b[0m\n\u001b[0;32m---> 25\u001b[0;31m     \u001b[0;32mfrom\u001b[0m \u001b[0mpyglet\u001b[0m\u001b[0;34m.\u001b[0m\u001b[0mgl\u001b[0m \u001b[0;32mimport\u001b[0m \u001b[0;34m*\u001b[0m\u001b[0;34m\u001b[0m\u001b[0;34m\u001b[0m\u001b[0m\n\u001b[0m\u001b[1;32m     26\u001b[0m \u001b[0;32mexcept\u001b[0m \u001b[0mImportError\u001b[0m \u001b[0;32mas\u001b[0m \u001b[0me\u001b[0m\u001b[0;34m:\u001b[0m\u001b[0;34m\u001b[0m\u001b[0;34m\u001b[0m\u001b[0m\n\u001b[1;32m     27\u001b[0m     raise ImportError('''\n",
            "\u001b[0;32m/usr/local/lib/python3.7/dist-packages/pyglet/gl/__init__.py\u001b[0m in \u001b[0;36m<module>\u001b[0;34m()\u001b[0m\n\u001b[1;32m    233\u001b[0m \u001b[0;32melif\u001b[0m \u001b[0mcompat_platform\u001b[0m \u001b[0;34m==\u001b[0m \u001b[0;34m'darwin'\u001b[0m\u001b[0;34m:\u001b[0m\u001b[0;34m\u001b[0m\u001b[0;34m\u001b[0m\u001b[0m\n\u001b[1;32m    234\u001b[0m     \u001b[0;32mfrom\u001b[0m \u001b[0;34m.\u001b[0m\u001b[0mcocoa\u001b[0m \u001b[0;32mimport\u001b[0m \u001b[0mCocoaConfig\u001b[0m \u001b[0;32mas\u001b[0m \u001b[0mConfig\u001b[0m\u001b[0;34m\u001b[0m\u001b[0;34m\u001b[0m\u001b[0m\n\u001b[0;32m--> 235\u001b[0;31m \u001b[0;32mdel\u001b[0m \u001b[0mbase\u001b[0m  \u001b[0;31m# noqa: F821\u001b[0m\u001b[0;34m\u001b[0m\u001b[0;34m\u001b[0m\u001b[0m\n\u001b[0m\u001b[1;32m    236\u001b[0m \u001b[0;34m\u001b[0m\u001b[0m\n\u001b[1;32m    237\u001b[0m \u001b[0;34m\u001b[0m\u001b[0m\n",
            "\u001b[0;31mNameError\u001b[0m: name 'base' is not defined"
          ]
        }
      ]
    }
  ]
}